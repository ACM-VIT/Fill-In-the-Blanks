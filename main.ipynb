{
 "cells": [
  {
   "cell_type": "markdown",
   "metadata": {},
   "source": [
    "# Fill in the Blanks\n",
    "<strong>Aim:</strong> To build a deep learning model, that takes as input an image with a missing rectangular portion and a boolean mask indicating its location, and predicts the missing content.\n",
    "\n",
    "We'll be using the same architecture as that used in [2].\n",
    "<br>\n",
    "### References:\n",
    "[1] <a href = \"https://www.tensorflow.org/api_docs\">TensorFlow API Documentation</a>\n",
    "<br>\n",
    "[2] <a href = \"https://arxiv.org/pdf/1704.05838.pdf\">Generative Face Completion</a>\n",
    "<br>\n",
    "[3] <a href = \"https://www.tensorflow.org/tutorials/generative/pix2pix\">TensorFlow Tutorial on Pix2Pix GANs</a>"
   ]
  },
  {
   "cell_type": "markdown",
   "metadata": {},
   "source": [
    "### Step 1: Import Statements"
   ]
  },
  {
   "cell_type": "code",
   "execution_count": null,
   "metadata": {},
   "outputs": [],
   "source": []
  },
  {
   "cell_type": "markdown",
   "metadata": {},
   "source": [
    "### Step 2: Load Function\n",
    "<strong>Inputs:</strong> (String) Path to an image, (Boolean) Normalize?<br>\n",
    "<strong>Steps:</strong> Load, Decode, Resize, Case to 'float', Normalize, Mask<br>\n",
    "<strong>Outputs:</strong> (TF Arrays) Original Image, Mask, Image with Mask Applied, Original Content of the masked area<br>"
   ]
  },
  {
   "cell_type": "code",
   "execution_count": null,
   "metadata": {},
   "outputs": [],
   "source": [
    "def load(image_file, normalize = True):\n",
    "    "
   ]
  },
  {
   "cell_type": "markdown",
   "metadata": {},
   "source": [
    "### Step 3: Create Input Pipeline using TF-Dataset\n",
    "1. List all image filenames<br>\n",
    "2. Shuffle<br>\n",
    "3. Split into Train/Test<br>\n",
    "4. Create TensorFlow Datasets from lists<br>\n",
    "5. Map 'load' function to TensorFlow Datasets<br>\n",
    "6. Batch Datasets<br>\n",
    "\n",
    "Documentation:\n",
    "<br>\n",
    "<a href = \"https://www.tensorflow.org/api_docs/python/tf/data/Dataset\">TensorFlow Datasets API</a>\n",
    "<br>\n",
    "<a href = \"https://www.tensorflow.org/guide/data\"> Tensorflow Input Pipelines</a>"
   ]
  },
  {
   "cell_type": "code",
   "execution_count": null,
   "metadata": {},
   "outputs": [],
   "source": []
  },
  {
   "cell_type": "markdown",
   "metadata": {},
   "source": [
    "### Step 4: Define Generator Model\n",
    "The architecture of generator is a modified U-Net. : <a href = \"https://lmb.informatik.uni-freiburg.de/people/ronneber/u-net/\">U-Net: Convolutional Networks for Biomedical Image Segmentation</a>\n",
    "1. Make Encoder using Convolution layers<br>\n",
    "2. Make Decoder using Tranposed Convolution layers<br>\n",
    "3. Create skip connections between the encoder and decoder (as in U-Net).<br>\n",
    "\n",
    "You may choose to create it using <a href=\"https://www.tensorflow.org/api_docs/python/tf/keras\">tf.keras</a> API<br>"
   ]
  },
  {
   "cell_type": "code",
   "execution_count": null,
   "metadata": {},
   "outputs": [],
   "source": [
    "def Generator():\n",
    "    pass\n",
    "generator = Generator()"
   ]
  },
  {
   "cell_type": "markdown",
   "metadata": {},
   "source": [
    "### Step 5: Define Global Discriminator\n",
    "1. Use convolution layers on a concatenation of the Masked Input and Output<br>\n",
    "\n",
    "You may wish to make a PatchGan Discriminator: <a href = \"https://www.researchgate.net/figure/The-patchGAN-discriminator-input-of-discriminator-is-either-the-pair-of-sketch-yellow_fig2_325291567\">ResearchGate - PatchGANs</a>"
   ]
  },
  {
   "cell_type": "code",
   "execution_count": null,
   "metadata": {},
   "outputs": [],
   "source": [
    "def GlobDisc():\n",
    "    pass\n",
    "global_discriminator = GlobDisc()"
   ]
  },
  {
   "cell_type": "markdown",
   "metadata": {},
   "source": [
    "### Step 6: Define Local Discriminator\n",
    "1. Use convolution layers on a concatenation of the Original content of masked area and Corresponding content in output<br>\n",
    "\n",
    "You may wish to make a PatchGan Discriminator: <a href = \"https://www.researchgate.net/figure/The-patchGAN-discriminator-input-of-discriminator-is-either-the-pair-of-sketch-yellow_fig2_325291567\">ResearchGate - PatchGANs</a>"
   ]
  },
  {
   "cell_type": "code",
   "execution_count": 1,
   "metadata": {},
   "outputs": [],
   "source": [
    "def LocDisc():\n",
    "    pass\n",
    "local_discriminator = LocDisc()"
   ]
  },
  {
   "cell_type": "markdown",
   "metadata": {},
   "source": [
    "### Step 7: Define Optimizer Objects\n",
    "You may use <a href = \"https://www.tensorflow.org/api_docs/python/tf/keras/optimizers\">tf.keras.optimizers</a> module for this"
   ]
  },
  {
   "cell_type": "code",
   "execution_count": null,
   "metadata": {},
   "outputs": [],
   "source": [
    "generator_optimizer = None\n",
    "global_discriminator_optimizer = None\n",
    "local_discriminator_optimizer = None"
   ]
  },
  {
   "cell_type": "markdown",
   "metadata": {},
   "source": [
    "### Step 8: Define a single Train Step\n",
    "<strong>Inputs:</strong> (some/all of) Original Image, Mask, Image with Mask Applied, Original Content of the masked area\n",
    "<br>\n",
    "<strong>Steps:</strong>\n",
    "1. Pass input through the models\n",
    "2. Find Adverserial Loss (as Some linear combination of Generator loss, Global Discriminator Loss, Local Discriminator Loss) \n",
    "3. Apply Loss to the models using the above Optimizer Objects"
   ]
  },
  {
   "cell_type": "code",
   "execution_count": null,
   "metadata": {},
   "outputs": [],
   "source": [
    "@tf.function\n",
    "def train_step(None):\n",
    "    pass"
   ]
  },
  {
   "cell_type": "markdown",
   "metadata": {},
   "source": [
    "### Step 9: Define Training Loop\n",
    "<strong>Note:</strong> You may wish to use <a href = \"https://www.tensorflow.org/api_docs/python/tf/train/Checkpoint\">Checkpointing</a>, <a href = \"https://www.tensorflow.org/tensorboard\">TensorBoard</a>, etc."
   ]
  },
  {
   "cell_type": "code",
   "execution_count": null,
   "metadata": {},
   "outputs": [],
   "source": [
    "def fit(train_dataset, epochs, test_dataset):\n",
    "    pass"
   ]
  },
  {
   "cell_type": "markdown",
   "metadata": {},
   "source": [
    "### Step 10: Define Predict Function\n",
    "<strong>Inputs:</strong> Image with a hole, Boolean Mask\n",
    "<br>\n",
    "<strong>Outputs:</strong> Corrected Image\n",
    "<br>"
   ]
  },
  {
   "cell_type": "code",
   "execution_count": null,
   "metadata": {},
   "outputs": [],
   "source": [
    "def predict(img, mask):\n",
    "    pass"
   ]
  },
  {
   "cell_type": "markdown",
   "metadata": {},
   "source": [
    "### Step 11: Run Training Loop"
   ]
  },
  {
   "cell_type": "code",
   "execution_count": null,
   "metadata": {},
   "outputs": [],
   "source": [
    "EPOCHS = None\n",
    "fit(train_dataset, EPOCHS, test_dataset)"
   ]
  }
 ],
 "metadata": {
  "kernelspec": {
   "display_name": "Python 3",
   "language": "python",
   "name": "python3"
  },
  "language_info": {
   "codemirror_mode": {
    "name": "ipython",
    "version": 3
   },
   "file_extension": ".py",
   "mimetype": "text/x-python",
   "name": "python",
   "nbconvert_exporter": "python",
   "pygments_lexer": "ipython3",
   "version": "3.7.6"
  }
 },
 "nbformat": 4,
 "nbformat_minor": 4
}
